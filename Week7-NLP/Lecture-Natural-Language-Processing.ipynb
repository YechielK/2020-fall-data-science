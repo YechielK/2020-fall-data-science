{
 "cells": [
  {
   "cell_type": "markdown",
   "metadata": {},
   "source": [
    "# Natural Language Processing Lecture\n",
    "\n",
    "\n",
    "### Remember our main steps motto _isbe_.\n",
    "1. i - Inspect and explore data.\n",
    "2. s - Select and engineer features.\n",
    "3. b - Build and train model.\n",
    "4. e - Evaluate model.\n"
   ]
  },
  {
   "cell_type": "code",
<<<<<<< HEAD
   "execution_count": 28,
   "metadata": {},
   "outputs": [
    {
     "name": "stderr",
     "output_type": "stream",
     "text": [
      "[nltk_data] Downloading package stopwords to\n",
      "[nltk_data]     C:\\Users\\thesp\\AppData\\Roaming\\nltk_data...\n",
      "[nltk_data]   Package stopwords is already up-to-date!\n",
      "[nltk_data] Downloading package punkt to\n",
      "[nltk_data]     C:\\Users\\thesp\\AppData\\Roaming\\nltk_data...\n",
      "[nltk_data]   Package punkt is already up-to-date!\n",
      "[nltk_data] Downloading package wordnet to\n",
      "[nltk_data]     C:\\Users\\thesp\\AppData\\Roaming\\nltk_data...\n",
      "[nltk_data]   Package wordnet is already up-to-date!\n",
      "[nltk_data] Downloading package averaged_perceptron_tagger to\n",
      "[nltk_data]     C:\\Users\\thesp\\AppData\\Roaming\\nltk_data...\n",
      "[nltk_data]   Package averaged_perceptron_tagger is already up-to-\n",
      "[nltk_data]       date!\n"
     ]
    }
   ],
=======
   "execution_count": null,
   "metadata": {},
   "outputs": [],
>>>>>>> upstream/master
   "source": [
    "# Import pandas for data handling\n",
    "import pandas as pd\n",
    "\n",
    "# NLTK is our Natural-Language-Took-Kit\n",
    "import nltk\n",
    "from nltk.corpus import stopwords\n",
    "from nltk import word_tokenize\n",
    "from nltk.stem import PorterStemmer\n",
    "from nltk.stem import WordNetLemmatizer\n",
    "from nltk.corpus import wordnet\n",
    "\n",
    "# Libraries for helping us with strings\n",
    "import string\n",
    "# Regular Expression Library\n",
    "import re\n",
    "\n",
    "# Import our text vectorizers\n",
    "from sklearn.feature_extraction.text import CountVectorizer\n",
    "from sklearn.feature_extraction.text import TfidfVectorizer\n",
    "\n",
    "\n",
    "# Import our classifiers\n",
    "from sklearn.naive_bayes import MultinomialNB\n",
    "from sklearn.ensemble import RandomForestClassifier\n",
    "\n",
    "\n",
    "# Import some ML helper function\n",
    "from sklearn.model_selection import train_test_split\n",
    "from sklearn.metrics import plot_confusion_matrix\n",
    "from sklearn.metrics import classification_report\n",
    "\n",
    "\n",
    "\n",
    "# Import our metrics to evaluate our model\n",
    "from sklearn import metrics\n",
    "\n",
    "\n",
    "# Library for plotting\n",
    "import matplotlib.pyplot as plt\n",
    "import seaborn as sns\n",
    "\n",
    "# You may need to download these from nltk\n",
    "nltk.download('stopwords')\n",
    "nltk.download('punkt')\n",
    "nltk.download('wordnet')\n",
<<<<<<< HEAD
    "nltk.download('averaged_perceptron_tagger')\n",
=======
>>>>>>> upstream/master
    "stopwords = stopwords.words('english')"
   ]
  },
  {
   "cell_type": "code",
<<<<<<< HEAD
   "execution_count": 3,
   "metadata": {},
   "outputs": [
    {
     "name": "stdout",
     "output_type": "stream",
     "text": [
      "(11314, 4)\n"
     ]
    },
    {
     "data": {
      "text/html": [
       "<div>\n",
       "<style scoped>\n",
       "    .dataframe tbody tr th:only-of-type {\n",
       "        vertical-align: middle;\n",
       "    }\n",
       "\n",
       "    .dataframe tbody tr th {\n",
       "        vertical-align: top;\n",
       "    }\n",
       "\n",
       "    .dataframe thead th {\n",
       "        text-align: right;\n",
       "    }\n",
       "</style>\n",
       "<table border=\"1\" class=\"dataframe\">\n",
       "  <thead>\n",
       "    <tr style=\"text-align: right;\">\n",
       "      <th></th>\n",
       "      <th>id</th>\n",
       "      <th>message</th>\n",
       "      <th>topic</th>\n",
       "      <th>topic_category</th>\n",
       "    </tr>\n",
       "  </thead>\n",
       "  <tbody>\n",
       "    <tr>\n",
       "      <td>0</td>\n",
       "      <td>0</td>\n",
       "      <td>From: lerxst@wam.umd.edu (where's my thing)\\r\\...</td>\n",
       "      <td>7</td>\n",
       "      <td>rec.autos</td>\n",
       "    </tr>\n",
       "    <tr>\n",
       "      <td>1</td>\n",
       "      <td>1</td>\n",
       "      <td>From: guykuo@carson.u.washington.edu (Guy Kuo)...</td>\n",
       "      <td>4</td>\n",
       "      <td>comp.sys.mac.hardware</td>\n",
       "    </tr>\n",
       "    <tr>\n",
       "      <td>2</td>\n",
       "      <td>2</td>\n",
       "      <td>From: twillis@ec.ecn.purdue.edu (Thomas E Will...</td>\n",
       "      <td>4</td>\n",
       "      <td>comp.sys.mac.hardware</td>\n",
       "    </tr>\n",
       "    <tr>\n",
       "      <td>3</td>\n",
       "      <td>3</td>\n",
       "      <td>From: jgreen@amber (Joe Green)\\r\\nSubject: Re:...</td>\n",
       "      <td>1</td>\n",
       "      <td>comp.graphics</td>\n",
       "    </tr>\n",
       "    <tr>\n",
       "      <td>4</td>\n",
       "      <td>4</td>\n",
       "      <td>From: jcm@head-cfa.harvard.edu (Jonathan McDow...</td>\n",
       "      <td>14</td>\n",
       "      <td>sci.space</td>\n",
       "    </tr>\n",
       "  </tbody>\n",
       "</table>\n",
       "</div>"
      ],
      "text/plain": [
       "   id                                            message  topic  \\\n",
       "0   0  From: lerxst@wam.umd.edu (where's my thing)\\r\\...      7   \n",
       "1   1  From: guykuo@carson.u.washington.edu (Guy Kuo)...      4   \n",
       "2   2  From: twillis@ec.ecn.purdue.edu (Thomas E Will...      4   \n",
       "3   3  From: jgreen@amber (Joe Green)\\r\\nSubject: Re:...      1   \n",
       "4   4  From: jcm@head-cfa.harvard.edu (Jonathan McDow...     14   \n",
       "\n",
       "          topic_category  \n",
       "0              rec.autos  \n",
       "1  comp.sys.mac.hardware  \n",
       "2  comp.sys.mac.hardware  \n",
       "3          comp.graphics  \n",
       "4              sci.space  "
      ]
     },
     "execution_count": 3,
     "metadata": {},
     "output_type": "execute_result"
    }
   ],
=======
   "execution_count": null,
   "metadata": {},
   "outputs": [],
>>>>>>> upstream/master
   "source": [
    "# Import our data\n",
    "df = pd.read_csv('data/20-newsgroups.csv')\n",
    "print(df.shape)\n",
    "df.head()"
   ]
  },
  {
   "cell_type": "markdown",
   "metadata": {},
   "source": [
    "# Check for nulls and dupes"
   ]
  },
  {
   "cell_type": "code",
<<<<<<< HEAD
   "execution_count": 4,
   "metadata": {},
   "outputs": [
    {
     "name": "stdout",
     "output_type": "stream",
     "text": [
      "id                0\n",
      "message           0\n",
      "topic             0\n",
      "topic_category    0\n",
      "dtype: int64\n"
     ]
    }
   ],
=======
   "execution_count": null,
   "metadata": {},
   "outputs": [],
>>>>>>> upstream/master
   "source": [
    "print(df.isnull().sum())"
   ]
  },
  {
   "cell_type": "code",
<<<<<<< HEAD
   "execution_count": 5,
   "metadata": {},
   "outputs": [
    {
     "name": "stdout",
     "output_type": "stream",
     "text": [
      "0\n"
     ]
    }
   ],
=======
   "execution_count": null,
   "metadata": {},
   "outputs": [],
>>>>>>> upstream/master
   "source": [
    "print(df.duplicated().sum())"
   ]
  },
  {
   "cell_type": "markdown",
   "metadata": {},
   "source": [
    "# Check out our class balances\n"
   ]
  },
  {
   "cell_type": "code",
<<<<<<< HEAD
   "execution_count": 6,
   "metadata": {},
   "outputs": [
    {
     "data": {
      "text/plain": [
       "rec.sport.hockey            600\n",
       "soc.religion.christian      599\n",
       "rec.motorcycles             598\n",
       "rec.sport.baseball          597\n",
       "sci.crypt                   595\n",
       "rec.autos                   594\n",
       "sci.med                     594\n",
       "comp.windows.x              593\n",
       "sci.space                   593\n",
       "sci.electronics             591\n",
       "comp.os.ms-windows.misc     591\n",
       "comp.sys.ibm.pc.hardware    590\n",
       "misc.forsale                585\n",
       "comp.graphics               584\n",
       "comp.sys.mac.hardware       578\n",
       "talk.politics.mideast       564\n",
       "talk.politics.guns          546\n",
       "alt.atheism                 480\n",
       "talk.politics.misc          465\n",
       "talk.religion.misc          377\n",
       "Name: topic_category, dtype: int64"
      ]
     },
     "execution_count": 6,
     "metadata": {},
     "output_type": "execute_result"
    }
   ],
=======
   "execution_count": null,
   "metadata": {},
   "outputs": [],
>>>>>>> upstream/master
   "source": [
    "df.topic_category.value_counts()"
   ]
  },
  {
   "cell_type": "markdown",
   "metadata": {},
   "source": [
    "# Feature Engineering\n",
    "1. Lowercase all words\n",
    "2. Remove all punctuation.\n",
    "3. Remove all stopwords. \n",
    "4. Stem words\n",
    "\n",
    "Remember, you can apply a function to a pandas column by using `df.column_name.apply(your_function)`"
   ]
  },
  {
   "cell_type": "code",
<<<<<<< HEAD
   "execution_count": 7,
   "metadata": {},
   "outputs": [
    {
     "data": {
      "text/plain": [
       "'this was a sentence with lower and upper case.'"
      ]
     },
     "execution_count": 7,
     "metadata": {},
     "output_type": "execute_result"
    }
   ],
=======
   "execution_count": null,
   "metadata": {},
   "outputs": [],
>>>>>>> upstream/master
   "source": [
    "# Lowercase all words\n",
    "def make_lower(a_string):\n",
    "    return a_string.lower()\n",
    "\n",
    "a_sentence = 'This was A SENTENCE with lower and UPPER CASE.'\n",
    "make_lower(a_sentence)"
   ]
  },
  {
   "cell_type": "code",
<<<<<<< HEAD
   "execution_count": 8,
   "metadata": {},
   "outputs": [
    {
     "data": {
      "text/plain": [
       "'This is a sentence 50 With lots of punctuation  other things'"
      ]
     },
     "execution_count": 8,
     "metadata": {},
     "output_type": "execute_result"
    }
   ],
=======
   "execution_count": null,
   "metadata": {},
   "outputs": [],
>>>>>>> upstream/master
   "source": [
    "# Remove all punctuation\n",
    "\n",
    "def remove_punctuation(a_string):    \n",
    "    a_string = re.sub(r'[^\\w\\s]','',a_string)\n",
    "    return a_string\n",
    "\n",
    "\n",
    "a_sentence = 'This is a sentence! 50 With lots of punctuation??? & other #things.'\n",
    "remove_punctuation(a_sentence)"
   ]
  },
  {
   "cell_type": "markdown",
   "metadata": {},
   "source": [
    "# What `word_tokenizer` does\n",
    "The `word_tokenizer` helper function accurately splits your data down into words.  \n",
    "You could use just `sentence.split(' ')` to split on spaces, however, that does not take into account new-lines or other edge cases. \n"
   ]
  },
  {
   "cell_type": "code",
<<<<<<< HEAD
   "execution_count": 9,
   "metadata": {},
   "outputs": [
    {
     "data": {
      "text/plain": [
       "['This',\n",
       " 'is',\n",
       " 'a',\n",
       " 'sentence',\n",
       " '!',\n",
       " 'With',\n",
       " 'lots',\n",
       " 'of',\n",
       " 'punctuation',\n",
       " '?',\n",
       " '?',\n",
       " '?',\n",
       " '&',\n",
       " 'other',\n",
       " '#',\n",
       " 'things',\n",
       " '.']"
      ]
     },
     "execution_count": 9,
     "metadata": {},
     "output_type": "execute_result"
    }
   ],
=======
   "execution_count": null,
   "metadata": {},
   "outputs": [],
>>>>>>> upstream/master
   "source": [
    "a_string = 'This is a sentence!  With lots of punctuation??? & other #things.'\n",
    "words = word_tokenize(a_string)\n",
    "words"
   ]
  },
  {
   "cell_type": "code",
<<<<<<< HEAD
   "execution_count": 10,
   "metadata": {},
   "outputs": [
    {
     "data": {
      "text/plain": [
       "'This sentence ! With different stopwords added .'"
      ]
     },
     "execution_count": 10,
     "metadata": {},
     "output_type": "execute_result"
    }
   ],
=======
   "execution_count": null,
   "metadata": {},
   "outputs": [],
>>>>>>> upstream/master
   "source": [
    "# Remove all stopwords\n",
    "\n",
    "def remove_stopwords(a_string):\n",
    "    # Break the sentence down into a list of words\n",
    "    words = word_tokenize(a_string)\n",
    "    \n",
    "    # Make a list to append valid words into\n",
    "    valid_words = []\n",
    "    \n",
    "    # Loop through all the words\n",
    "    for word in words:\n",
    "        \n",
    "        # Check if word is not in stopwords\n",
    "        if word not in stopwords:\n",
    "            \n",
    "            # If word not in stopwords, append to our valid_words\n",
    "            valid_words.append(word)\n",
    "\n",
    "    # Join the list of words together into a string\n",
    "    a_string = ' '.join(valid_words)\n",
    "\n",
    "    return a_string\n",
    "            \n",
    "a_sentence = 'This is a sentence! With some different stopwords i have added in here.'\n",
    "remove_stopwords(a_sentence)"
   ]
  },
  {
   "cell_type": "code",
<<<<<<< HEAD
   "execution_count": 11,
   "metadata": {},
   "outputs": [
    {
     "data": {
      "text/plain": [
       "'I play and start play with player and we all love to play with play'"
      ]
     },
     "execution_count": 11,
     "metadata": {},
     "output_type": "execute_result"
    }
   ],
=======
   "execution_count": null,
   "metadata": {},
   "outputs": [],
>>>>>>> upstream/master
   "source": [
    "# Break words into their stem words\n",
    "\n",
    "def stem_words(a_string):\n",
    "    # Initalize our Stemmer\n",
    "    porter = PorterStemmer()\n",
    "    \n",
    "    # Break the sentence down into a list of words\n",
    "    words = word_tokenize(a_string)\n",
    "    \n",
    "    # Make a list to append valid words into\n",
    "    valid_words = []\n",
    "\n",
    "    # Loop through all the words\n",
    "    for word in words:\n",
    "        # Stem the word\n",
<<<<<<< HEAD
    "#         stemmed_word = porter.stem(word)\n",
    "        \n",
    "        # Append stemmed word to our valid_words\n",
    "        valid_words.append(porter.stem(word))\n",
=======
    "        stemmed_word = porter.stem(word)\n",
    "        \n",
    "        # Append stemmed word to our valid_words\n",
    "        valid_words.append(stemmed_word)\n",
>>>>>>> upstream/master
    "        \n",
    "    # Join the list of words together into a string\n",
    "    a_string = ' '.join(valid_words)\n",
    "\n",
    "    return a_string \n",
    "\n",
    "\n",
    "a_sentence = 'I played and started playing with players and we all love to play with plays'\n",
    "stem_words(a_sentence)"
   ]
  },
  {
   "cell_type": "code",
<<<<<<< HEAD
   "execution_count": 12,
   "metadata": {},
   "outputs": [
    {
     "name": "stderr",
     "output_type": "stream",
     "text": [
      "[nltk_data] Downloading package averaged_perceptron_tagger to\n",
      "[nltk_data]     C:\\Users\\thesp\\AppData\\Roaming\\nltk_data...\n",
      "[nltk_data]   Package averaged_perceptron_tagger is already up-to-\n",
      "[nltk_data]       date!\n"
     ]
    },
    {
     "data": {
      "text/plain": [
       "'This be because she want to go outside with her friend and play basketball .'"
      ]
     },
     "execution_count": 12,
     "metadata": {},
     "output_type": "execute_result"
    }
   ],
   "source": [
    "# Lemmatize words with pos-tags\n",
    "nltk.download('averaged_perceptron_tagger')\n",
=======
   "execution_count": null,
   "metadata": {},
   "outputs": [],
   "source": [
    "# Lemmatize words with pos-tags\n",
    "\n",
>>>>>>> upstream/master
    "def convert_pos(pos):\n",
    "    if pos.startswith('V'):\n",
    "        return wordnet.VERB\n",
    "    elif pos.startswith('J'):\n",
    "        return wordnet.ADJ\n",
    "    elif pos.startswith('R'):\n",
    "        return wordnet.ADV\n",
    "    else:\n",
    "        return wordnet.NOUN\n",
    "\n",
    "\n",
    "def lem_with_pos_tag(a_string):\n",
    "    # Initalize our Lemmer\n",
    "    lemmatizer = WordNetLemmatizer()\n",
    "    \n",
    "    # Break the sentence down into a list of words\n",
    "    words = word_tokenize(a_string)\n",
    "    \n",
    "    # Get the word and pos_tag for each of the words. \n",
    "    tagged_words = nltk.pos_tag(words)\n",
    "    \n",
    "    # Make a list to append valid words into\n",
    "    valid_words = []\n",
    "\n",
    "    # Loop through all the words\n",
    "    for word in tagged_words:\n",
    "        \n",
    "        # The word is the first element in the tuple\n",
    "        the_word = word[0]\n",
    "        \n",
    "        # The pos_tag is the second element in the tuple\n",
    "        the_pos_tag = word[1]\n",
    "        \n",
    "        # Convert the pos_tag into the format the lemmatizer accepts\n",
    "        the_pos_tag = convert_pos(the_pos_tag)\n",
    "        \n",
    "        # Lemmatize the word with the pos_tag\n",
    "        lemmed_word = lemmatizer.lemmatize(the_word, the_pos_tag)\n",
    "        \n",
    "        # Append stemmed word to our valid_words\n",
    "        valid_words.append(lemmed_word)\n",
    "        \n",
    "    # Join the list of words together into a string\n",
    "    a_string = ' '.join(valid_words)\n",
    "\n",
    "    return a_string \n",
    "\n",
    "a_sentence = 'I played and started playing with players and we all love to play with plays'\n",
    "another_sentence = 'This is because she wanted to go outside with her friends and play basketball.'\n",
    "lem_with_pos_tag(another_sentence)"
   ]
  },
  {
   "cell_type": "markdown",
   "metadata": {},
   "source": [
    "# Building a text processing pipeline"
   ]
  },
  {
   "cell_type": "code",
<<<<<<< HEAD
   "execution_count": 26,
   "metadata": {},
   "outputs": [
    {
     "name": "stdout",
     "output_type": "stream",
     "text": [
      "ORIGINAL TEXT: From: lerxst@wam.umd.edu (where's my thing)\r\n",
      "Subject: WHAT car is this!?\r\n",
      "Nntp-Posting-Host: rac3.wam.umd.edu\r\n",
      "Organization: University of Maryland, College Park\r\n",
      "Lines: 15\r\n",
      "\r\n",
      " I was wondering if anyone out there could enlighten me on this car I saw\r\n",
      "the other day. It was a 2-door sports car, looked to be from the late 60s/\r\n",
      "early 70s. It was called a Bricklin. The doors were really small. In addition,\r\n",
      "the front bumper was separate from the rest of the body. This is \r\n",
      "all I know. If anyone can tellme a model name, engine specs, years\r\n",
      "of production, where this car is made, history, or whatever info you\r\n",
      "have on this funky looking car, please e-mail.\r\n",
      "\r\n",
      "Thanks,\r\n",
      "- IL\r\n",
      "   ---- brought to you by your neighborhood Lerxst ----\r\n",
      "\r\n",
      "\r\n",
      "\r\n",
      "\r\n",
      "\n",
      "CLEANED TEXT: lerxstwamumdedu wheres thing subject car nntppostinghost rac3wamumdedu organization university maryland college park lines 15 wondering anyone could enlighten car saw day 2door sports car looked late 60s early 70s called bricklin doors really small addition front bumper separate rest body know anyone tellme model name engine specs years production car made history whatever info funky looking car please email thanks il brought neighborhood lerxst\n"
     ]
    }
   ],
=======
   "execution_count": null,
   "metadata": {},
   "outputs": [],
>>>>>>> upstream/master
   "source": [
    "def text_pipeline(input_string):\n",
    "    input_string = make_lower(input_string)\n",
    "    input_string = remove_punctuation(input_string)\n",
    "    #input_string = lem_with_pos_tag(input_string)\n",
    "    input_string = remove_stopwords(input_string)    \n",
    "    return input_string\n",
    "\n",
    "\n",
<<<<<<< HEAD
    "df['message_clean'] = df['message']\n",
    "df['message_clean'] = df['message_clean'].apply(make_lower)\n",
    "df['message_clean'] = df['message_clean'].apply(remove_punctuation)\n",
    "df['message_clean'] = df['message_clean'].apply(lem_with_pos_tag)\n",
    "df['message_clean'] = df['message_clean'].apply(remove_stopwords)\n",
    "df['message_clean'] = df['message'].apply(text_pipeline)\n",
    "\n",
    "print(\"ORIGINAL TEXT:\", df['message'][0])\n",
    "print(\"CLEANED TEXT:\", df['message_clean'][0])"
=======
    "# df['message_clean'] = df['message']\n",
    "# df['message_clean'] = df['message_clean'].apply(make_lower)\n",
    "# df['message_clean'] = df['message_clean'].apply(remove_punctuation)\n",
    "# df['message_clean'] = df['message_clean'].apply(lem_with_pos_tag)\n",
    "# df['message_clean'] = df['message_clean'].apply(remove_stopwords)\n",
    "# df['message_clean'] = df['message'].apply(text_pipeline)\n",
    "\n",
    "print(\"ORIGINAL TEXT:\", df['message'][0])\n",
    "print(\"CLEANDED TEXT:\", df['message_clean'][0])"
>>>>>>> upstream/master
   ]
  },
  {
   "cell_type": "code",
<<<<<<< HEAD
   "execution_count": 14,
   "metadata": {},
   "outputs": [
    {
     "data": {
      "text/html": [
       "<div>\n",
       "<style scoped>\n",
       "    .dataframe tbody tr th:only-of-type {\n",
       "        vertical-align: middle;\n",
       "    }\n",
       "\n",
       "    .dataframe tbody tr th {\n",
       "        vertical-align: top;\n",
       "    }\n",
       "\n",
       "    .dataframe thead th {\n",
       "        text-align: right;\n",
       "    }\n",
       "</style>\n",
       "<table border=\"1\" class=\"dataframe\">\n",
       "  <thead>\n",
       "    <tr style=\"text-align: right;\">\n",
       "      <th></th>\n",
       "      <th>id</th>\n",
       "      <th>message</th>\n",
       "      <th>topic</th>\n",
       "      <th>topic_category</th>\n",
       "      <th>message_clean</th>\n",
       "    </tr>\n",
       "  </thead>\n",
       "  <tbody>\n",
       "    <tr>\n",
       "      <td>0</td>\n",
       "      <td>0</td>\n",
       "      <td>From: lerxst@wam.umd.edu (where's my thing)\\r\\...</td>\n",
       "      <td>7</td>\n",
       "      <td>rec.autos</td>\n",
       "      <td>lerxstwamumdedu wheres thing subject car nntpp...</td>\n",
       "    </tr>\n",
       "    <tr>\n",
       "      <td>1</td>\n",
       "      <td>1</td>\n",
       "      <td>From: guykuo@carson.u.washington.edu (Guy Kuo)...</td>\n",
       "      <td>4</td>\n",
       "      <td>comp.sys.mac.hardware</td>\n",
       "      <td>guykuocarsonuwashingtonedu guy kuo subject si ...</td>\n",
       "    </tr>\n",
       "    <tr>\n",
       "      <td>2</td>\n",
       "      <td>2</td>\n",
       "      <td>From: twillis@ec.ecn.purdue.edu (Thomas E Will...</td>\n",
       "      <td>4</td>\n",
       "      <td>comp.sys.mac.hardware</td>\n",
       "      <td>twillisececnpurdueedu thomas e willis subject ...</td>\n",
       "    </tr>\n",
       "    <tr>\n",
       "      <td>3</td>\n",
       "      <td>3</td>\n",
       "      <td>From: jgreen@amber (Joe Green)\\r\\nSubject: Re:...</td>\n",
       "      <td>1</td>\n",
       "      <td>comp.graphics</td>\n",
       "      <td>jgreenamber joe green subject weitek p9000 org...</td>\n",
       "    </tr>\n",
       "    <tr>\n",
       "      <td>4</td>\n",
       "      <td>4</td>\n",
       "      <td>From: jcm@head-cfa.harvard.edu (Jonathan McDow...</td>\n",
       "      <td>14</td>\n",
       "      <td>sci.space</td>\n",
       "      <td>jcmheadcfaharvardedu jonathan mcdowell subject...</td>\n",
       "    </tr>\n",
       "  </tbody>\n",
       "</table>\n",
       "</div>"
      ],
      "text/plain": [
       "   id                                            message  topic  \\\n",
       "0   0  From: lerxst@wam.umd.edu (where's my thing)\\r\\...      7   \n",
       "1   1  From: guykuo@carson.u.washington.edu (Guy Kuo)...      4   \n",
       "2   2  From: twillis@ec.ecn.purdue.edu (Thomas E Will...      4   \n",
       "3   3  From: jgreen@amber (Joe Green)\\r\\nSubject: Re:...      1   \n",
       "4   4  From: jcm@head-cfa.harvard.edu (Jonathan McDow...     14   \n",
       "\n",
       "          topic_category                                      message_clean  \n",
       "0              rec.autos  lerxstwamumdedu wheres thing subject car nntpp...  \n",
       "1  comp.sys.mac.hardware  guykuocarsonuwashingtonedu guy kuo subject si ...  \n",
       "2  comp.sys.mac.hardware  twillisececnpurdueedu thomas e willis subject ...  \n",
       "3          comp.graphics  jgreenamber joe green subject weitek p9000 org...  \n",
       "4              sci.space  jcmheadcfaharvardedu jonathan mcdowell subject...  "
      ]
     },
     "execution_count": 14,
     "metadata": {},
     "output_type": "execute_result"
    }
   ],
=======
   "execution_count": null,
   "metadata": {},
   "outputs": [],
>>>>>>> upstream/master
   "source": [
    "df.head()"
   ]
  },
  {
   "cell_type": "code",
<<<<<<< HEAD
   "execution_count": 15,
=======
   "execution_count": null,
>>>>>>> upstream/master
   "metadata": {},
   "outputs": [],
   "source": [
    "# Define our `X` and `y` data. \n",
    "\n",
    "X = df['message_clean'].values\n",
    "\n",
    "y = df['topic_category'].values"
   ]
  },
  {
   "cell_type": "code",
<<<<<<< HEAD
   "execution_count": 16,
   "metadata": {},
   "outputs": [
    {
     "name": "stdout",
     "output_type": "stream",
     "text": [
      "(11314, 139767) <class 'scipy.sparse.csr.csr_matrix'>\n"
     ]
    }
   ],
=======
   "execution_count": null,
   "metadata": {},
   "outputs": [],
>>>>>>> upstream/master
   "source": [
    "from sklearn.feature_extraction.text import TfidfVectorizer\n",
    "\n",
    "# Initialize our vectorizer\n",
    "vectorizer = TfidfVectorizer()\n",
    "\n",
    "# This makes your vocab matrix\n",
    "vectorizer.fit(X)\n",
    "\n",
    "# This transforms your documents into vectors.\n",
    "X = vectorizer.transform(X)\n",
    "\n",
    "print(X.shape, type(X))"
   ]
  },
  {
   "cell_type": "markdown",
   "metadata": {},
   "source": [
    "# X is now a 'sparse matrix'"
   ]
  },
  {
   "cell_type": "code",
<<<<<<< HEAD
   "execution_count": 17,
   "metadata": {},
   "outputs": [
    {
     "data": {
      "text/plain": [
       "<1x139767 sparse matrix of type '<class 'numpy.float64'>'\n",
       "\twith 59 stored elements in Compressed Sparse Row format>"
      ]
     },
     "execution_count": 17,
     "metadata": {},
     "output_type": "execute_result"
    }
   ],
=======
   "execution_count": null,
   "metadata": {},
   "outputs": [],
>>>>>>> upstream/master
   "source": [
    "X[0]"
   ]
  },
  {
   "cell_type": "markdown",
   "metadata": {},
   "source": [
    "# Split our data into testing and training like always. \n"
   ]
  },
  {
   "cell_type": "code",
<<<<<<< HEAD
   "execution_count": 18,
=======
   "execution_count": null,
>>>>>>> upstream/master
   "metadata": {},
   "outputs": [],
   "source": [
    "# Split our data into testing and training like always. \n",
    "X_train, X_test, y_train, y_test = train_test_split(\n",
    "    X, y, test_size=0.2, random_state=42)"
   ]
  },
  {
   "cell_type": "markdown",
   "metadata": {},
   "source": [
    "# Build and train our model\n"
   ]
  },
  {
   "cell_type": "code",
<<<<<<< HEAD
   "execution_count": 19,
   "metadata": {},
   "outputs": [
    {
     "name": "stdout",
     "output_type": "stream",
     "text": [
      "Model Accuracy: 0.916483\n"
     ]
    }
   ],
=======
   "execution_count": null,
   "metadata": {},
   "outputs": [],
>>>>>>> upstream/master
   "source": [
    "# Initalize our model.\n",
    "model = MultinomialNB(alpha=.05)\n",
    "\n",
    "\n",
    "# Fit our model with our training data.\n",
    "model.fit(X_train, y_train)\n",
    "\n",
    "\n",
    "# Make new predictions of our testing data. \n",
    "y_pred = model.predict(X_test)\n",
    "\n",
    "\n",
    "# Make predicted probabilites of our testing data\n",
    "y_pred_proba = model.predict_proba(X_test)\n",
    "\n",
    "# Evaluate our model\n",
    "accuracy =  model.score(X_test, y_test)\n",
    "\n",
    "# Print our evaluation metrics\n",
    "print(\"Model Accuracy: %f\" % accuracy)"
   ]
  },
  {
   "cell_type": "markdown",
   "metadata": {},
   "source": [
    "# Precision\n",
    "Out of all the times the MODEL says 'yes' what was the precentage it was correct. \n",
    "* The precision is intuitively the ability of the classifier to not label a sample as positive if it is negative. \n",
    "* The precision is the ratio tp / (tp + fp) where tp is the number of true positives and fp the number of false positives. \n",
    "* If you want to raise precision (ie; only say yes when you are absolutely sure), raise your classification threshold.\n",
    "\n",
    "# Recall\n",
    "Out of all the times the ACTUAL is 'yes', what percentage did you get correct.  \n",
    "* The recall is intuitively the ability of the classifier to find all the positive samples.\n",
    "* The recall is the ratio tp / (tp + fn) where tp is the number of true positives and fn the number of false negatives. \n",
    "* if you want to raise recall, lower your classification threshold"
   ]
  },
  {
   "cell_type": "code",
<<<<<<< HEAD
   "execution_count": 20,
   "metadata": {},
   "outputs": [
    {
     "name": "stdout",
     "output_type": "stream",
     "text": [
      "                          precision    recall  f1-score   support\n",
      "\n",
      "             alt.atheism       0.93      0.95      0.94        97\n",
      "           comp.graphics       0.82      0.87      0.84       104\n",
      " comp.os.ms-windows.misc       0.92      0.81      0.86       115\n",
      "comp.sys.ibm.pc.hardware       0.71      0.85      0.77       123\n",
      "   comp.sys.mac.hardware       0.96      0.90      0.93       126\n",
      "          comp.windows.x       0.87      0.92      0.89       106\n",
      "            misc.forsale       0.86      0.80      0.83       109\n",
      "               rec.autos       0.94      0.94      0.94       139\n",
      "         rec.motorcycles       0.96      0.95      0.95       122\n",
      "      rec.sport.baseball       0.99      0.98      0.99       102\n",
      "        rec.sport.hockey       0.97      0.99      0.98       108\n",
      "               sci.crypt       0.98      0.97      0.97       125\n",
      "         sci.electronics       0.88      0.88      0.88       114\n",
      "                 sci.med       0.97      0.98      0.98       119\n",
      "               sci.space       1.00      0.98      0.99       127\n",
      "  soc.religion.christian       0.83      0.94      0.88       122\n",
      "      talk.politics.guns       0.95      0.98      0.97       121\n",
      "   talk.politics.mideast       0.94      0.99      0.97       102\n",
      "      talk.politics.misc       0.95      0.97      0.96       107\n",
      "      talk.religion.misc       0.98      0.55      0.70        75\n",
      "\n",
      "                accuracy                           0.92      2263\n",
      "               macro avg       0.92      0.91      0.91      2263\n",
      "            weighted avg       0.92      0.92      0.92      2263\n",
      "\n"
     ]
    }
   ],
=======
   "execution_count": null,
   "metadata": {},
   "outputs": [],
>>>>>>> upstream/master
   "source": [
    "from sklearn.metrics import classification_report\n",
    "\n",
    "print(classification_report(y_test, y_pred, target_names=model.classes_))"
   ]
  },
  {
   "cell_type": "code",
<<<<<<< HEAD
   "execution_count": 21,
   "metadata": {},
   "outputs": [
    {
     "data": {
      "text/plain": [
       "<sklearn.metrics._plot.confusion_matrix.ConfusionMatrixDisplay at 0x19dd4f41948>"
      ]
     },
     "execution_count": 21,
     "metadata": {},
     "output_type": "execute_result"
    },
    {
     "data": {
      "image/png": "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\n",
      "text/plain": [
       "<Figure size 1512x1512 with 2 Axes>"
      ]
     },
     "metadata": {
      "needs_background": "light"
     },
     "output_type": "display_data"
    }
   ],
=======
   "execution_count": null,
   "metadata": {},
   "outputs": [],
>>>>>>> upstream/master
   "source": [
    "# Plot the confusion matrix of our results\n",
    "fig, ax = plt.subplots(figsize=(21, 21))\n",
    "\n",
    "disp = plot_confusion_matrix(model, X_test, y_test,\n",
    "                             display_labels=model.classes_,\n",
    "                             cmap=plt.cm.Blues, ax=ax)\n",
    "plt.xticks(rotation=90)\n",
    "disp"
   ]
  },
  {
   "cell_type": "markdown",
   "metadata": {},
   "source": [
    "# Lets see if a Random Forest can do any better."
   ]
  },
  {
   "cell_type": "code",
<<<<<<< HEAD
   "execution_count": 22,
   "metadata": {},
   "outputs": [
    {
     "name": "stdout",
     "output_type": "stream",
     "text": [
      "Model Accuracy: 0.855060\n",
      "                          precision    recall  f1-score   support\n",
      "\n",
      "             alt.atheism       0.92      0.88      0.90        97\n",
      "           comp.graphics       0.66      0.82      0.73       104\n",
      " comp.os.ms-windows.misc       0.77      0.83      0.80       115\n",
      "comp.sys.ibm.pc.hardware       0.71      0.69      0.70       123\n",
      "   comp.sys.mac.hardware       0.90      0.75      0.82       126\n",
      "          comp.windows.x       0.78      0.89      0.83       106\n",
      "            misc.forsale       0.73      0.90      0.80       109\n",
      "               rec.autos       0.90      0.88      0.89       139\n",
      "         rec.motorcycles       0.96      0.91      0.93       122\n",
      "      rec.sport.baseball       0.86      0.92      0.89       102\n",
      "        rec.sport.hockey       0.96      0.94      0.95       108\n",
      "               sci.crypt       0.95      0.96      0.96       125\n",
      "         sci.electronics       0.81      0.69      0.75       114\n",
      "                 sci.med       0.92      0.92      0.92       119\n",
      "               sci.space       0.97      0.94      0.96       127\n",
      "  soc.religion.christian       0.76      0.89      0.82       122\n",
      "      talk.politics.guns       0.89      0.93      0.91       121\n",
      "   talk.politics.mideast       0.91      0.95      0.93       102\n",
      "      talk.politics.misc       0.93      0.80      0.86       107\n",
      "      talk.religion.misc       0.94      0.45      0.61        75\n",
      "\n",
      "                accuracy                           0.86      2263\n",
      "               macro avg       0.86      0.85      0.85      2263\n",
      "            weighted avg       0.86      0.86      0.85      2263\n",
      "\n"
     ]
    }
   ],
=======
   "execution_count": null,
   "metadata": {},
   "outputs": [],
>>>>>>> upstream/master
   "source": [
    "from sklearn.ensemble import RandomForestClassifier\n",
    "\n",
    "\n",
    "rf_model = RandomForestClassifier()\n",
    "\n",
    "\n",
    "# Fit our model with our training data.\n",
    "rf_model.fit(X_train, y_train)\n",
    "\n",
    "\n",
    "# Make new predictions of our testing data. \n",
    "y_pred = rf_model.predict(X_test)\n",
    "\n",
    "\n",
    "# Make predicted probabilites of our testing data\n",
    "y_pred_proba = rf_model.predict_proba(X_test)\n",
    "\n",
    "# Evaluate our model\n",
    "accuracy =  rf_model.score(X_test, y_test)\n",
    "\n",
    "# Print our evaluation metrics\n",
    "print(\"Model Accuracy: %f\" % accuracy)\n",
    "\n",
    "print(classification_report(y_test, y_pred, target_names=rf_model.classes_))"
   ]
  },
  {
   "cell_type": "code",
<<<<<<< HEAD
   "execution_count": 23,
   "metadata": {},
   "outputs": [
    {
     "data": {
      "text/plain": [
       "<sklearn.metrics._plot.confusion_matrix.ConfusionMatrixDisplay at 0x19dd59c60c8>"
      ]
     },
     "execution_count": 23,
     "metadata": {},
     "output_type": "execute_result"
    },
    {
     "data": {
      "image/png": "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\n",
      "text/plain": [
       "<Figure size 1512x1512 with 2 Axes>"
      ]
     },
     "metadata": {
      "needs_background": "light"
     },
     "output_type": "display_data"
    }
   ],
=======
   "execution_count": null,
   "metadata": {},
   "outputs": [],
>>>>>>> upstream/master
   "source": [
    "# Plot the confusion matrix of our results\n",
    "fig, ax = plt.subplots(figsize=(21, 21))\n",
    "disp = plot_confusion_matrix(rf_model, X_test, y_test,\n",
    "                             display_labels=rf_model.classes_,\n",
    "                             cmap=plt.cm.Blues, ax=ax)\n",
    "plt.xticks(rotation=90)\n",
    "disp"
   ]
  },
  {
   "cell_type": "markdown",
   "metadata": {},
   "source": [
    "___\n",
    "# When classifing a new piece of text.\n",
    "For example, if we wanted to classify a totally new peice of text that was oustide of our training and testing data, what you must first do is feature engineer the new text the same way you did with your training text, and then transform the new text using the same vectorizer."
   ]
  },
  {
   "cell_type": "code",
<<<<<<< HEAD
   "execution_count": 24,
   "metadata": {},
   "outputs": [
    {
     "name": "stdout",
     "output_type": "stream",
     "text": [
      "love hockey scoring goals sport hockey fun watch wayne gretzky best hockey player time scored many goals\n"
     ]
    },
    {
     "data": {
      "text/plain": [
       "array(['rec.sport.hockey'], dtype='<U24')"
      ]
     },
     "execution_count": 24,
     "metadata": {},
     "output_type": "execute_result"
    }
   ],
=======
   "execution_count": null,
   "metadata": {},
   "outputs": [],
>>>>>>> upstream/master
   "source": [
    "new_text = 'I love hockey and scoring goals. The sport of hockey is fun to watch. Wayne Gretzky was the best hockey player of all time.  He scored so many goals.'\n",
    "\n",
    "# Feature engineer the same way we did with our original data. \n",
    "new_text = text_pipeline(new_text)\n",
    "\n",
    "# Sanity check\n",
    "print(new_text)\n",
    "\n",
    "# Turn the new_text into numbers using the vectorizer\n",
    "# NOTE, must be passed in as a list.\n",
    "# NOTE, use just transform here, NOT FIT. \n",
    "new_text_vectorized = vectorizer.transform([new_text])\n",
    "\n",
    "# make a new prediction using our model and vectorized text\n",
    "model.predict(new_text_vectorized)"
   ]
  },
  {
   "cell_type": "code",
<<<<<<< HEAD
   "execution_count": 25,
   "metadata": {},
   "outputs": [
    {
     "name": "stdout",
     "output_type": "stream",
     "text": [
      "alt.atheism 0.0\n",
      "comp.graphics 0.0\n",
      "comp.os.ms-windows.misc 0.0\n",
      "comp.sys.ibm.pc.hardware 0.0\n",
      "comp.sys.mac.hardware 0.0\n",
      "comp.windows.x 0.0\n",
      "misc.forsale 0.0\n",
      "rec.autos 0.0\n",
      "rec.motorcycles 0.0\n",
      "rec.sport.baseball 0.002\n",
      "rec.sport.hockey 0.998\n",
      "sci.crypt 0.0\n",
      "sci.electronics 0.0\n",
      "sci.med 0.0\n",
      "sci.space 0.0\n",
      "soc.religion.christian 0.0\n",
      "talk.politics.guns 0.0\n",
      "talk.politics.mideast 0.0\n",
      "talk.politics.misc 0.0\n",
      "talk.religion.misc 0.0\n"
     ]
    }
   ],
=======
   "execution_count": null,
   "metadata": {},
   "outputs": [],
>>>>>>> upstream/master
   "source": [
    "# Print the predicted probabilies for each class\n",
    "pp = model.predict_proba(new_text_vectorized)\n",
    "for c, p in zip(model.classes_, pp.round(3)[0]):\n",
    "    print(c, p)"
   ]
  },
  {
   "cell_type": "code",
   "execution_count": null,
   "metadata": {},
   "outputs": [],
   "source": []
  }
 ],
 "metadata": {
  "kernelspec": {
   "display_name": "Python 3",
   "language": "python",
   "name": "python3"
  },
  "language_info": {
   "codemirror_mode": {
    "name": "ipython",
    "version": 3
   },
   "file_extension": ".py",
   "mimetype": "text/x-python",
   "name": "python",
   "nbconvert_exporter": "python",
   "pygments_lexer": "ipython3",
   "version": "3.7.4"
  }
 },
 "nbformat": 4,
 "nbformat_minor": 2
}
